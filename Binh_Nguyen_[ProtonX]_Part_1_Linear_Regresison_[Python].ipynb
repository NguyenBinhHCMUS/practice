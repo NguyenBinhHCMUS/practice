{
  "nbformat": 4,
  "nbformat_minor": 0,
  "metadata": {
    "kernelspec": {
      "display_name": "Python 3",
      "language": "python",
      "name": "python3"
    },
    "language_info": {
      "codemirror_mode": {
        "name": "ipython",
        "version": 3
      },
      "file_extension": ".py",
      "mimetype": "text/x-python",
      "name": "python",
      "nbconvert_exporter": "python",
      "pygments_lexer": "ipython3",
      "version": "3.7.3"
    },
    "colab": {
      "name": "Binh Nguyen - [ProtonX] Part 1 - Linear Regresison [Python].ipynb",
      "provenance": [],
      "collapsed_sections": [],
      "toc_visible": true,
      "include_colab_link": true
    }
  },
  "cells": [
    {
      "cell_type": "markdown",
      "metadata": {
        "id": "view-in-github",
        "colab_type": "text"
      },
      "source": [
        "<a href=\"https://colab.research.google.com/github/NguyenBinhHCMUS/practice/blob/master/Binh_Nguyen_%5BProtonX%5D_Part_1_Linear_Regresison_%5BPython%5D.ipynb\" target=\"_parent\"><img src=\"https://colab.research.google.com/assets/colab-badge.svg\" alt=\"Open In Colab\"/></a>"
      ]
    },
    {
      "cell_type": "markdown",
      "metadata": {
        "id": "WP0XU-lZb4tD"
      },
      "source": [
        "# Programming Assignment: Linear Regresison [Part 1 - Python]\n",
        "\n",
        "```\n",
        "ProtonX - TensorFlow Class\n",
        "```\n",
        "\n",
        "> **MỤC TIÊU:** Trong phần hướng dẫn này, các bạn sẽ thực hiện dự đoán  **giá nhà** từ **diện tích nhà** và **số lượng phòng ngủ**.\n",
        "\n",
        "### Hướng dẫn làm bài \n",
        "- Trong bài tập này bạn sẽ sử dụng Python 3.\n",
        "- Cố gắng không sử dụng các vòng lặp (for, while). \n",
        "- Hãy sử dụng các hàm của thư viện numpy.\n",
        "- Chúng ta cũng sẽ sử dụng thư viện __scikit-learn__ để kiểm tra kết quả\n",
        "- Sau khi bạn viết Code của mình xong, hãy chạy dòng Code đó để xem kết quả bên dưới. \n",
        "\n",
        "Các bạn sẽ bắt đầu Code trong phần `### START CODE HERE ###` và `### END CODE HERE ###`. Các bạn nhớ đừng sửa bất kỳ dòng Code nào bên ngoài những câu lệnh này. \n",
        "\n",
        "Sau khi viết xong Code của bạn, bạn hãy ấn \"SHIFT\"+\"ENTER\" để thực hiện chạy lệnh của Cell đó. \n",
        "\n",
        "Trong phần Code: các bạn hãy cố gắng thực hiện ít dòng Code nhất theo chỉ định \"(≈ X lines of code)\". Mặc dù đây không phải là hạn chế về số dòng Code của bạn, nhưng hãy tối ưu sao cho ít nhất có thể."
      ]
    },
    {
      "cell_type": "code",
      "metadata": {
        "id": "H-ubQynDb4tF"
      },
      "source": [
        "# import các thư viện \n",
        "%matplotlib inline\n",
        "import matplotlib.pyplot as plt\n",
        "import numpy as np\n",
        "import seaborn\n",
        "seaborn.set_style(\"whitegrid\")"
      ],
      "execution_count": 1,
      "outputs": []
    },
    {
      "cell_type": "markdown",
      "metadata": {
        "id": "1szATkglb4tJ"
      },
      "source": [
        "## Nhập dữ liệu và trực quan hoá "
      ]
    },
    {
      "cell_type": "code",
      "metadata": {
        "id": "hWXQHiwncpKx",
        "outputId": "071cf21c-2e51-4a62-d894-85c4a2a17e03",
        "colab": {
          "base_uri": "https://localhost:8080/",
          "height": 440
        }
      },
      "source": [
        "!wget --no-check-certificate \\\n",
        "https://www.dropbox.com/s/gm1uc37y8a6croz/data.zip \\\n",
        "-O /tmp/data.zip"
      ],
      "execution_count": 2,
      "outputs": [
        {
          "output_type": "stream",
          "text": [
            "--2020-10-06 09:06:55--  https://www.dropbox.com/s/gm1uc37y8a6croz/data.zip\n",
            "Resolving www.dropbox.com (www.dropbox.com)... 162.125.5.1, 2620:100:601f:1::a27d:901\n",
            "Connecting to www.dropbox.com (www.dropbox.com)|162.125.5.1|:443... connected.\n",
            "HTTP request sent, awaiting response... 301 Moved Permanently\n",
            "Location: /s/raw/gm1uc37y8a6croz/data.zip [following]\n",
            "--2020-10-06 09:06:55--  https://www.dropbox.com/s/raw/gm1uc37y8a6croz/data.zip\n",
            "Reusing existing connection to www.dropbox.com:443.\n",
            "HTTP request sent, awaiting response... 302 Found\n",
            "Location: https://ucebb71415891cae3adc7ee21bad.dl.dropboxusercontent.com/cd/0/inline/BAuhyMvgehHLncO7xZ2NAfOTWoYQYvldTb9LpsTJgIe40RHZn4OzGN-awLiozTbHewyCKyS49xmVKE4Nz0w6TFsfulJDrsm-tGVq-Q-VodbJ_1viDkovVBh_Xz4RJ7J_h3M/file# [following]\n",
            "--2020-10-06 09:06:56--  https://ucebb71415891cae3adc7ee21bad.dl.dropboxusercontent.com/cd/0/inline/BAuhyMvgehHLncO7xZ2NAfOTWoYQYvldTb9LpsTJgIe40RHZn4OzGN-awLiozTbHewyCKyS49xmVKE4Nz0w6TFsfulJDrsm-tGVq-Q-VodbJ_1viDkovVBh_Xz4RJ7J_h3M/file\n",
            "Resolving ucebb71415891cae3adc7ee21bad.dl.dropboxusercontent.com (ucebb71415891cae3adc7ee21bad.dl.dropboxusercontent.com)... 162.125.5.15, 2620:100:601f:15::a27d:90f\n",
            "Connecting to ucebb71415891cae3adc7ee21bad.dl.dropboxusercontent.com (ucebb71415891cae3adc7ee21bad.dl.dropboxusercontent.com)|162.125.5.15|:443... connected.\n",
            "HTTP request sent, awaiting response... 302 Found\n",
            "Location: /cd/0/inline2/BAtKPvxJX15e6binsLJUyUPsECFWSBfiTB9wByDTWTZvPZPaYeaT__zdED-dAvPUxwIdpqIwBYAIuMpkgxmOn-TNCBXIOwRrm2le__qoZR-bHYreWmMcwy9uP5iRlGNVY9fpY_K65YPP1sV0CMvQxdt7ZDwqPyVW3BbHUdCnKtUdvnhHG-18MYHPcyTaH0fNNpzVfJ6-Lpxr90p_xKo0REYrKpK3oIWjRjzkFEiuzD1ww-PzRBoSLLc718dbi5zbVx32KFMJA9IMuZwmRj7mpqtSrtwBvceMaDjeE-MUn5fuyDtjlS-f4i78GAsvHqtmPOTT1ivTNrjpjthgAAXY0OVYMA30XszAN-evgSk5lowuNg/file [following]\n",
            "--2020-10-06 09:06:56--  https://ucebb71415891cae3adc7ee21bad.dl.dropboxusercontent.com/cd/0/inline2/BAtKPvxJX15e6binsLJUyUPsECFWSBfiTB9wByDTWTZvPZPaYeaT__zdED-dAvPUxwIdpqIwBYAIuMpkgxmOn-TNCBXIOwRrm2le__qoZR-bHYreWmMcwy9uP5iRlGNVY9fpY_K65YPP1sV0CMvQxdt7ZDwqPyVW3BbHUdCnKtUdvnhHG-18MYHPcyTaH0fNNpzVfJ6-Lpxr90p_xKo0REYrKpK3oIWjRjzkFEiuzD1ww-PzRBoSLLc718dbi5zbVx32KFMJA9IMuZwmRj7mpqtSrtwBvceMaDjeE-MUn5fuyDtjlS-f4i78GAsvHqtmPOTT1ivTNrjpjthgAAXY0OVYMA30XszAN-evgSk5lowuNg/file\n",
            "Reusing existing connection to ucebb71415891cae3adc7ee21bad.dl.dropboxusercontent.com:443.\n",
            "HTTP request sent, awaiting response... 200 OK\n",
            "Length: 449 [application/zip]\n",
            "Saving to: ‘/tmp/data.zip’\n",
            "\n",
            "/tmp/data.zip       100%[===================>]     449  --.-KB/s    in 0s      \n",
            "\n",
            "2020-10-06 09:06:57 (85.5 MB/s) - ‘/tmp/data.zip’ saved [449/449]\n",
            "\n"
          ],
          "name": "stdout"
        }
      ]
    },
    {
      "cell_type": "markdown",
      "metadata": {
        "id": "4P9WL38hK-Vf"
      },
      "source": [
        "Giải nén dữ liệu tải xuống !"
      ]
    },
    {
      "cell_type": "code",
      "metadata": {
        "id": "tX5tNCNVdKfL",
        "outputId": "cd28052e-151b-4f7c-bc1f-895167de2de9",
        "colab": {
          "base_uri": "https://localhost:8080/",
          "height": 34
        }
      },
      "source": [
        "import os\n",
        "import zipfile\n",
        "\n",
        "local_zip = '/tmp/data.zip'\n",
        "zip_ref = zipfile.ZipFile(local_zip, 'r')\n",
        "zip_ref.extractall('/tmp/')\n",
        "\n",
        "%cd \"/tmp\""
      ],
      "execution_count": 3,
      "outputs": [
        {
          "output_type": "stream",
          "text": [
            "/tmp\n"
          ],
          "name": "stdout"
        }
      ]
    },
    {
      "cell_type": "code",
      "metadata": {
        "id": "QsP0e6mlb4tK"
      },
      "source": [
        "# đọc dữ liệu từ file data.txt \n",
        "data = np.loadtxt('data/data.txt', delimiter=',')\n",
        "x, y = data[:, :2], data[:, 2]"
      ],
      "execution_count": 4,
      "outputs": []
    },
    {
      "cell_type": "code",
      "metadata": {
        "id": "8xikQ2kkb4tN",
        "outputId": "7411142c-c879-4d54-abff-ac2208dccc83",
        "colab": {
          "base_uri": "https://localhost:8080/",
          "height": 118
        }
      },
      "source": [
        "# xem trước 5 dữ liệu đầu tiên\n",
        "print(x[:5])\n",
        "print(y[:5])"
      ],
      "execution_count": 5,
      "outputs": [
        {
          "output_type": "stream",
          "text": [
            "[[2.104e+03 3.000e+00]\n",
            " [1.600e+03 3.000e+00]\n",
            " [2.400e+03 3.000e+00]\n",
            " [1.416e+03 2.000e+00]\n",
            " [3.000e+03 4.000e+00]]\n",
            "[399900. 329900. 369000. 232000. 539900.]\n"
          ],
          "name": "stdout"
        }
      ]
    },
    {
      "cell_type": "markdown",
      "metadata": {
        "id": "cvtjj2nUb4tQ"
      },
      "source": [
        "## 1. Trực quan hoá dữ liệu\n",
        "\n",
        "Việc trực quan hoá dữ liệu sẽ phần nào giúp chúng ta hình dung bộ dữ liệu ra sao."
      ]
    },
    {
      "cell_type": "code",
      "metadata": {
        "id": "Izt9Kbc3b4tR",
        "outputId": "f6162687-3b07-4776-9c2d-a83e5e1c8b49",
        "colab": {
          "base_uri": "https://localhost:8080/",
          "height": 364
        }
      },
      "source": [
        "fig = plt.figure(figsize=(14, 5))\n",
        "fig.subplots_adjust(wspace=0.3)\n",
        "\n",
        "ax1 = fig.add_subplot(121)\n",
        "ax2 = fig.add_subplot(122)\n",
        "\n",
        "# Scatter plots:\n",
        "ax1.scatter(x[:,0], y, marker='x', c='r', alpha=0.5, s=20)\n",
        "ax1.set_xlabel('Diện tích nhà')\n",
        "ax1.set_ylabel('Giá nhà')\n",
        "ax1.set_xlim(0, 6000)\n",
        "\n",
        "ax3 = ax1.twiny()\n",
        "ax3.scatter(x[:,1], y, marker='o', c='b', alpha=0.4, s=20)\n",
        "ax3.set_xlabel('Số lượng phòng ngủ')\n",
        "ax3.set_xlim(0, 6)\n",
        "\n",
        "# Histograms:\n",
        "ax2.hist(x[:,0], alpha=0.4, edgecolor='b', linewidth=0.8)\n",
        "ax2.set_xlabel('Diện tích nhà')\n",
        "ax2.set_ylabel('Tổng số lượng')\n",
        "ax2.set_xlim(0, 6000)\n",
        "\n",
        "ax4 = ax2.twiny()\n",
        "ax4.hist(x[:,1], alpha=0.4, color='r', edgecolor='r', linewidth=0.8)\n",
        "ax4.set_xlabel('Số lượng phòng ngủ')\n",
        "ax4.set_xlim(0, 6);"
      ],
      "execution_count": 6,
      "outputs": [
        {
          "output_type": "display_data",
          "data": {
            "image/png": "[encoded data removed]",
            "text/plain": [
              "<Figure size 1008x360 with 4 Axes>"
            ]
          },
          "metadata": {
            "tags": [],
            "needs_background": "light"
          }
        }
      ]
    },
    {
      "cell_type": "markdown",
      "metadata": {
        "id": "AIV7ar40b4tV"
      },
      "source": [
        "## 2. Chuẩn hoá dữ liệu "
      ]
    },
    {
      "cell_type": "markdown",
      "metadata": {
        "id": "MWKfNl5bb4tW"
      },
      "source": [
        "### Bài tập 1: Chuẩn hoá dữ liệu \n",
        "\n",
        "Nhắc lại: Standardization (còn được gọi là z-score normalization) biến đổi dữ liệu sao cho phân phối của kết quả có giá trị trung bình ($\\mu$) bằng 0 và độ lệch chuẩn ($\\sigma$) bằng 1. Khi đó, công thức chuẩn hoá là:\n",
        "\n",
        "<center> $x' = \\frac{x - x_{mean}}{\\sigma}$ </center>\n",
        "\n",
        "Trong đó:\n",
        "- $x'$: giá trị sau chuẩn hoá.\n",
        "- $x$: giá trị ban đầu.\n",
        "- $x_{mean}$: giá trị mean của bộ dữ liệu.\n",
        "- $\\sigma$: phương sai (standard deviation).\n",
        "\n",
        "Công thức z-score trong thống kê được định nghĩa:\n",
        "\n",
        "<center> $x' = \\frac{x - \\mu}{\\sigma}$ </center>\n",
        "\n",
        "```python\n",
        "Gợi ý sử dụng:\n",
        "  - numpy.mean(): tính giá trị trung bình\n",
        "  - numpy.std(): tính phương sai \n",
        "\n",
        "Chú ý: chuẩn hoá theo từng feature.\n",
        "  - axis = 0: xử lý theo cột \n",
        "  - axis = 1: xử lý theo hàng \n",
        "```"
      ]
    },
    {
      "cell_type": "code",
      "metadata": {
        "id": "aLJvvqGNb4tX"
      },
      "source": [
        "# Khi làm việc với matrix bạn cần chú ý tới axis \n",
        "\n",
        "def featureNormalize(X):\n",
        "    \"\"\"\n",
        "    mu: giá trị mean\n",
        "    sigma: phương sai (standard deviation)\n",
        "    X_norm: giá trị sau chuẩn hoá\n",
        "    \"\"\"\n",
        "    ### START CODE HERE ### (≈ 3 line of code)\n",
        "    mu = np.mean(X, axis=0)\n",
        "    sigma = np.std(X, axis=0)\n",
        "    X_norm = (X - mu) / sigma\n",
        "    ### END CODE HERE ###\n",
        "    \n",
        "    return X_norm, mu, sigma"
      ],
      "execution_count": 7,
      "outputs": []
    },
    {
      "cell_type": "markdown",
      "metadata": {
        "id": "MoqhMMDmb4ta"
      },
      "source": [
        "Chuẩn hoá dữ liệu Training:"
      ]
    },
    {
      "cell_type": "code",
      "metadata": {
        "id": "mnXDSMQjb4tb",
        "outputId": "ff6c8b6c-8d4f-4700-c13f-508de413e11c",
        "colab": {
          "base_uri": "https://localhost:8080/",
          "height": 101
        }
      },
      "source": [
        "# In dữ liệu trước khi chuẩn hoá\n",
        "print(x[:5])"
      ],
      "execution_count": 8,
      "outputs": [
        {
          "output_type": "stream",
          "text": [
            "[[2.104e+03 3.000e+00]\n",
            " [1.600e+03 3.000e+00]\n",
            " [2.400e+03 3.000e+00]\n",
            " [1.416e+03 2.000e+00]\n",
            " [3.000e+03 4.000e+00]]\n"
          ],
          "name": "stdout"
        }
      ]
    },
    {
      "cell_type": "code",
      "metadata": {
        "id": "ILSgl27vb4te"
      },
      "source": [
        "# Chuẩn hoá dữ liệu \n",
        "X, mean, sigma = featureNormalize(x)"
      ],
      "execution_count": 9,
      "outputs": []
    },
    {
      "cell_type": "code",
      "metadata": {
        "id": "MyJq-8_Lb4th",
        "outputId": "66b15e73-c331-4d96-b567-47b4da1fc039",
        "colab": {
          "base_uri": "https://localhost:8080/",
          "height": 101
        }
      },
      "source": [
        "# Dữ liệu sau khi chuẩn hoá\n",
        "print(X[:5])"
      ],
      "execution_count": 10,
      "outputs": [
        {
          "output_type": "stream",
          "text": [
            "[[ 0.13141542 -0.22609337]\n",
            " [-0.5096407  -0.22609337]\n",
            " [ 0.5079087  -0.22609337]\n",
            " [-0.74367706 -1.5543919 ]\n",
            " [ 1.27107075  1.10220517]]\n"
          ],
          "name": "stdout"
        }
      ]
    },
    {
      "cell_type": "markdown",
      "metadata": {
        "id": "qb_LgSIZb4to"
      },
      "source": [
        "**Đầu ra kỳ vọng**: \n",
        "```python\n",
        "[[ 0.13141542 -0.22609337]\n",
        " [-0.5096407  -0.22609337]\n",
        " [ 0.5079087  -0.22609337]\n",
        " [-0.74367706 -1.5543919 ]\n",
        " [ 1.27107075  1.10220517]]\n",
        "```"
      ]
    },
    {
      "cell_type": "markdown",
      "metadata": {
        "id": "6WRzW_t1b4tp"
      },
      "source": [
        "Trực quan hoá dữ liệu sau khi chuẩn hoá"
      ]
    },
    {
      "cell_type": "code",
      "metadata": {
        "id": "dQ-SRPeFb4tr",
        "outputId": "940e2e60-6aaa-4a78-ad64-2bfa468bbb32",
        "colab": {
          "base_uri": "https://localhost:8080/",
          "height": 334
        }
      },
      "source": [
        "fig = plt.figure(figsize=(7, 5))\n",
        "\n",
        "# Histograms:\n",
        "plt.hist(X[:,0], alpha=0.4, edgecolor='b', linewidth=0.8, label='sq.ft')\n",
        "plt.hist(X[:,1], alpha=0.4, color='r', edgecolor='r', linewidth=0.8, label='bedrooms')\n",
        "plt.xlabel('Features normalized')\n",
        "plt.ylabel('Total count')\n",
        "plt.xlim(-4, 4)\n",
        "pst = plt.legend(loc='best', frameon=True)\n",
        "pst.get_frame().set_edgecolor('k');"
      ],
      "execution_count": 11,
      "outputs": [
        {
          "output_type": "display_data",
          "data": {
            "image/png": "[encoded data removed]",
            "text/plain": [
              "<Figure size 504x360 with 1 Axes>"
            ]
          },
          "metadata": {
            "tags": [],
            "needs_background": "light"
          }
        }
      ]
    },
    {
      "cell_type": "markdown",
      "metadata": {
        "id": "SDjKTbiJb4tt"
      },
      "source": [
        "## 3. Gradient Descent"
      ]
    },
    {
      "cell_type": "markdown",
      "metadata": {
        "id": "a4WxIZPqb4tu"
      },
      "source": [
        "### Bài tập 2: Thực hiện thêm cột 1 vào X"
      ]
    },
    {
      "cell_type": "markdown",
      "metadata": {
        "id": "3WkkVrqPb4tu"
      },
      "source": [
        "Để thuận tiện cho việc tính toán, chúng ta coi $\\theta_0 \\times x_0$ với $x_0 = 1$. Khi đó:\n",
        "\n",
        "<br><center> $\\hat{y} = h_{\\theta}(x) = \\theta_0{x_0} + \\theta_1{x_1} + \\theta_2{x_2} + \\theta_3{x_3} + ... +    \\theta_n{x_n}$</center>\n",
        "\n",
        "**Chú ý:** $x_0 = 1$\n",
        "\n",
        "\n",
        ">$ X = \\begin{bmatrix}\n",
        " 1 & x_1 ^{(1)} & \\cdots \\\\ \n",
        " 1 & x_1^{(2)} & \\cdots \\\\ \n",
        " 1 & x_1^{(3)} & \\cdots \n",
        "\\end{bmatrix}; \\theta = \\begin{bmatrix}\n",
        "\\theta_0\\\\ \n",
        "\\theta_1\\\\\n",
        "\\vdots\n",
        "\\end{bmatrix} $"
      ]
    },
    {
      "cell_type": "code",
      "metadata": {
        "id": "GG-Cd73Lb4tv"
      },
      "source": [
        "\"\"\"\n",
        "Gợi ý sử dụng: np.ones và np.hstack\n",
        "\"\"\"\n",
        "\n",
        "### START CODE HERE ### (≈ 1 line of code)\n",
        "X = np.hstack((np.ones((X.shape[0], 1)), X))\n",
        "### END CODE HERE ###"
      ],
      "execution_count": 12,
      "outputs": []
    },
    {
      "cell_type": "code",
      "metadata": {
        "id": "z6nfWoDZb4tx",
        "outputId": "010c2856-4559-4ab0-8877-c372e7334f81",
        "colab": {
          "base_uri": "https://localhost:8080/",
          "height": 101
        }
      },
      "source": [
        "print(X[:5])"
      ],
      "execution_count": 13,
      "outputs": [
        {
          "output_type": "stream",
          "text": [
            "[[ 1.          0.13141542 -0.22609337]\n",
            " [ 1.         -0.5096407  -0.22609337]\n",
            " [ 1.          0.5079087  -0.22609337]\n",
            " [ 1.         -0.74367706 -1.5543919 ]\n",
            " [ 1.          1.27107075  1.10220517]]\n"
          ],
          "name": "stdout"
        }
      ]
    },
    {
      "cell_type": "markdown",
      "metadata": {
        "id": "XfN_zzbRb4t1"
      },
      "source": [
        "**Đầu ra kỳ vọng**: \n",
        "```Python \n",
        "[[ 1.          0.13141542 -0.22609337]\n",
        " [ 1.         -0.5096407  -0.22609337]\n",
        " [ 1.          0.5079087  -0.22609337]\n",
        " [ 1.         -0.74367706 -1.5543919 ]\n",
        " [ 1.          1.27107075  1.10220517]]\n",
        "```"
      ]
    },
    {
      "cell_type": "markdown",
      "metadata": {
        "id": "SuX9BK4Db4t2"
      },
      "source": [
        "Khởi tạo tham số:"
      ]
    },
    {
      "cell_type": "code",
      "metadata": {
        "id": "ZF7cjb8Db4t3"
      },
      "source": [
        "# Theta \n",
        "np.random.seed(9999)\n",
        "theta = np.random.random(3)\n",
        "\n",
        "# Số lượng vòng lặp \n",
        "iterations = 1500\n",
        "\n",
        "# Learning_rate \n",
        "alpha = 0.01"
      ],
      "execution_count": 14,
      "outputs": []
    },
    {
      "cell_type": "markdown",
      "metadata": {
        "id": "47-TPlG_b4t5"
      },
      "source": [
        "## Tính Cost Function J\n",
        "\n"
      ]
    },
    {
      "cell_type": "markdown",
      "metadata": {
        "id": "uHXRTiLDP4Bw"
      },
      "source": [
        "### Bài tập 3: Tính Cost Function J\n",
        "\n",
        "<br><center>$J(\\theta) = \\dfrac{1}{2m}  \\sum_{i = 1}^{m} {(h_{\\theta}(x^{(i)}) - y^{(i)})^2}$</center>\n",
        "\n",
        "Hoặc sử dụng Vector hoá:\n",
        "\n",
        "<br><center>$J(\\theta) = \\dfrac{1}{2m} (X\\theta - \\vec{y} )^T(X\\theta - \\vec{y})$</center>\n",
        "\n",
        "*Chú ý:* phép nhân Vector."
      ]
    },
    {
      "cell_type": "code",
      "metadata": {
        "id": "yRgfUN7gb4t6"
      },
      "source": [
        "def computeCost(X, y, theta):\n",
        "    m = len(y)\n",
        "    \n",
        "    ### START CODE HERE ### (≈ 1 line of code)   \n",
        "    cost = 1 / (2*m) * np.sum((X.dot(theta) - y)**2)\n",
        "    ### END CODE HERE ###    \n",
        "    \n",
        "    return np.squeeze(cost)"
      ],
      "execution_count": 15,
      "outputs": []
    },
    {
      "cell_type": "code",
      "metadata": {
        "id": "vxVYVimkb4t9",
        "outputId": "34b43191-d452-45d1-b450-0031f1457633",
        "colab": {
          "base_uri": "https://localhost:8080/",
          "height": 34
        }
      },
      "source": [
        "computeCost(X, y, theta)"
      ],
      "execution_count": 16,
      "outputs": [
        {
          "output_type": "execute_result",
          "data": {
            "text/plain": [
              "65591242973.23542"
            ]
          },
          "metadata": {
            "tags": []
          },
          "execution_count": 16
        }
      ]
    },
    {
      "cell_type": "markdown",
      "metadata": {
        "id": "zjCBV0V-b4uA"
      },
      "source": [
        "**Đầu ra kỳ vọng**: \n",
        "```python\n",
        "65591092105.466644\n",
        "```\n",
        "Giá trị lớn do ta đang để giá trị `y` lớn, tuy nhiên không ảnh hưởng đến việc train (bạn có thể scale y xuống đoạn [0, 1]).\n",
        "\n",
        "Mục đích để nguyên giá trị của `y` để mình sẽ so sánh `theta` tìm được bằng Gradient Descent với thư viện Skit-learn."
      ]
    },
    {
      "cell_type": "markdown",
      "metadata": {
        "id": "gLIpmEAYb4uB"
      },
      "source": [
        "### Bài tập 4: Định nghĩa hàm Gradient Descent\n",
        "\n",
        "> $\\theta:= \\theta - \\frac{\\alpha}{m} X^T (X\\theta - \\vec{y}) $\n"
      ]
    },
    {
      "cell_type": "code",
      "metadata": {
        "id": "5x51l1vsb4uB"
      },
      "source": [
        "def gradientDescent(X, y, theta, alpha, iterations):\n",
        "    m = len(y)\n",
        "    lossHist = np.zeros(iterations)\n",
        "    thetaMod = theta.copy()\n",
        "    thetaHist = np.zeros(iterations)\n",
        "    \n",
        "    for i in range(iterations):\n",
        "        \n",
        "        ### START CODE HERE ### (≈ 1 line of code)\n",
        "        thetaMod -= alpha/m * X.T.dot(X.dot(thetaMod) - y)\n",
        "        ### END CODE HERE ### \n",
        "        \n",
        "        thetaHist[i] = thetaMod[1]\n",
        "        lossHist[i] = computeCost(X, y, thetaMod)\n",
        "    \n",
        "    return thetaMod, thetaHist, lossHist"
      ],
      "execution_count": 17,
      "outputs": []
    },
    {
      "cell_type": "code",
      "metadata": {
        "id": "_oAPaRGnb4uG",
        "outputId": "c87b35a9-1ce2-4ce0-b7e7-bcc3b9ce3b4e",
        "colab": {
          "base_uri": "https://localhost:8080/",
          "height": 67
        }
      },
      "source": [
        "gradient, thetaHist, lossHist = gradientDescent(X, y, theta, alpha, iterations)  \n",
        "print('theta[0]: {}\\ntheta[1]: {}\\ntheta[2]: {}'.format(gradient[0], gradient[1], gradient[2]))"
      ],
      "execution_count": 18,
      "outputs": [
        {
          "output_type": "stream",
          "text": [
            "theta[0]: 340412.56301462563\n",
            "theta[1]: 109370.05683004878\n",
            "theta[2]: -6500.615220455424\n"
          ],
          "name": "stdout"
        }
      ]
    },
    {
      "cell_type": "markdown",
      "metadata": {
        "id": "8P0O7NuRb4uJ"
      },
      "source": [
        "**Đầu ra kỳ vọng**: \n",
        "```python\n",
        "theta[0]: 340412.5630146717\n",
        "theta[1]: 109370.05694831036\n",
        "theta[2]: -6500.615338716937\n",
        "```"
      ]
    },
    {
      "cell_type": "markdown",
      "metadata": {
        "id": "b_46u5ATb4uJ"
      },
      "source": [
        "Vẽ đồ thị \bhàm mất mát (loss):"
      ]
    },
    {
      "cell_type": "code",
      "metadata": {
        "id": "DxDdohgmb4uK",
        "outputId": "df35d1d2-f8a2-4cbb-9ea7-4a133b65247c",
        "colab": {
          "base_uri": "https://localhost:8080/",
          "height": 290
        }
      },
      "source": [
        "plt.figure()\n",
        "plt.plot(lossHist)\n",
        "plt.xlabel('Epoch')\n",
        "plt.ylabel('Loss')\n",
        "plt.show()"
      ],
      "execution_count": 19,
      "outputs": [
        {
          "output_type": "display_data",
          "data": {
            "image/png": "[encoded data removed]",
            "text/plain": [
              "<Figure size 432x288 with 1 Axes>"
            ]
          },
          "metadata": {
            "tags": [],
            "needs_background": "light"
          }
        }
      ]
    },
    {
      "cell_type": "markdown",
      "metadata": {
        "id": "HPIaV5XOb4uN"
      },
      "source": [
        "## Nghiệm với Scikit-learn"
      ]
    },
    {
      "cell_type": "code",
      "metadata": {
        "id": "BXVwnUPXb4uO",
        "outputId": "b20e0793-c2c9-4e28-a42e-acefa7203097",
        "colab": {
          "base_uri": "https://localhost:8080/",
          "height": 67
        }
      },
      "source": [
        "from sklearn.linear_model import LinearRegression\n",
        "reg = LinearRegression(fit_intercept=True)\n",
        "\n",
        "model = reg.fit(x, y)\n",
        "\n",
        "print('theta[0]: {}\\ntheta[1]: {}\\ntheta[2]: {}'.format(model.intercept_, model.coef_[0], model.coef_[1]))"
      ],
      "execution_count": 20,
      "outputs": [
        {
          "output_type": "stream",
          "text": [
            "theta[0]: 89597.90954279754\n",
            "theta[1]: 139.2106740176255\n",
            "theta[2]: -8738.019112327831\n"
          ],
          "name": "stdout"
        }
      ]
    },
    {
      "cell_type": "markdown",
      "metadata": {
        "id": "p95KgLpqb4uQ"
      },
      "source": [
        "**Nhận xét:** kết quả Loss khi sử dụng Gradient Descent mặc dù giảm dần nhưng vẫn chưa tối ưu. Theta khi sử dụng Gradient Descent và Scikit-learn khác nhau khá lớn."
      ]
    },
    {
      "cell_type": "markdown",
      "metadata": {
        "id": "-q1dlj2Rb4uR"
      },
      "source": [
        "## 4. Tuỳ chọn Learning Rate cho Gradient Descent \n",
        "\n",
        "Bằng cách tuỳ chọn các Learning Rate khác nhau, chúng ta sẽ đi tìm Learning Rate tối ưu nhất."
      ]
    },
    {
      "cell_type": "code",
      "metadata": {
        "id": "ToPhcPOqb4uS",
        "outputId": "d7c7968e-bb80-4183-8221-94886557c8ed",
        "colab": {
          "base_uri": "https://localhost:8080/",
          "height": 345
        }
      },
      "source": [
        "learningRates = [0.3, 0.1, 0.03, 0.01, 0.003, 0.001]\n",
        "\n",
        "fig, ax = plt.subplots(figsize=(7, 5))\n",
        "\n",
        "for alpha in learningRates:\n",
        "    gradientNew, thetaHistNew, costNew = gradientDescent(X, y, theta, alpha, 50) \n",
        "    ax.plot(costNew, label='alpha = {0}'.format(alpha))\n",
        "\n",
        "ax.set_ylabel(r\"Cost function - $J(\\theta)$\")\n",
        "ax.set_xlabel('Iterations')\n",
        "pst = plt.legend(loc='best', frameon=True)\n",
        "pst.get_frame().set_edgecolor('k');"
      ],
      "execution_count": 21,
      "outputs": [
        {
          "output_type": "display_data",
          "data": {
            "image/png": "[encoded data removed]",
            "text/plain": [
              "<Figure size 504x360 with 1 Axes>"
            ]
          },
          "metadata": {
            "tags": [],
            "needs_background": "light"
          }
        }
      ]
    },
    {
      "cell_type": "markdown",
      "metadata": {
        "id": "Tn-GBa2eb4uW"
      },
      "source": [
        "Ta nhận thấy learning rate phù hợp nhất ở đây là __0.03__"
      ]
    },
    {
      "cell_type": "markdown",
      "metadata": {
        "id": "PvShpNtbb4uX"
      },
      "source": [
        "## 5. Thực hiện dự đoán "
      ]
    },
    {
      "cell_type": "code",
      "metadata": {
        "id": "kdCyaJEvb4uY",
        "outputId": "0430ac62-a8be-4289-b3ba-721c7f9df448",
        "colab": {
          "base_uri": "https://localhost:8080/",
          "height": 34
        }
      },
      "source": [
        "# Chạy lại thuật toán với LR tối ưu = 0.03\n",
        "gradient, thetaHist, cost = gradientDescent(X, y, theta, 0.03, 500)  \n",
        "\n",
        "# normalizing parameters:\n",
        "paramsNorm = (np.array([1650, 3]) - mean) / sigma\n",
        "\n",
        "# thêm cột 1 vào paramsNorm\n",
        "params = np.hstack((np.array([1]), paramsNorm))\n",
        "\n",
        "# Dự đoán giá nhà\n",
        "predict = np.dot(params, gradient)\n",
        "print ('Căn nhà diện tích 1650 feet và 3 phòng ngủ có giá: $%0.2f' % predict)"
      ],
      "execution_count": 22,
      "outputs": [
        {
          "output_type": "stream",
          "text": [
            "Căn nhà diện tích 1650 feet và 3 phòng ngủ có giá: $293097.99\n"
          ],
          "name": "stdout"
        }
      ]
    },
    {
      "cell_type": "markdown",
      "metadata": {
        "id": "K8a9sY4zb4uc"
      },
      "source": [
        "**Đầu ra kỳ vọng**: \n",
        "```python\n",
        "Căn nhà diện tích 1650 feet và 3 phòng ngủ có giá: $293097.99\n",
        "```"
      ]
    },
    {
      "cell_type": "markdown",
      "metadata": {
        "id": "092plmg6b4ud"
      },
      "source": [
        "## 6. Nghiệm bằng Normal Equation\n",
        "\n",
        "Normal Equation là phương pháp tìm nghiệm của bài toán Linear Regression mà không cần tới vòng lặp, không cần lựa chọn Learning Rate. Và cũng không cần phải Scaling dữ liệu.\n",
        "\n",
        "Và công thức quan trọng nhất của chúng ta:\n",
        "\n",
        "<center> $\\theta = (X^T X)^{-1} X^Ty $ </center>\n",
        "\n",
        "So sánh giữa Normal Equation và Gradient Descent:\n",
        "\n",
        "<table>\n",
        "  <tr>\n",
        "    <td> Gradient Descent </td>\n",
        "    <td> Normal Equation </td>\n",
        "  </tr>\n",
        "\n",
        "  <tr>\n",
        "    <td> Cần phải chọn Learning Rate </td>\n",
        "    <td> Không cần chọn Learning Rate </td> \n",
        "  </tr>\n",
        "  \n",
        "  <tr>\n",
        "    <td> Cần nhiều vòng lặp </td>\n",
        "    <td> Không cần vòng lặp </td>\n",
        "  </tr>\n",
        "  \n",
        "  <tr>\n",
        "    <td> Thời gian tính: $O(kn^2)$ </td>\n",
        "    <td> Thời gian tính: $O(n^3)$, cần phải tính ma trận nghịch đảo </td> \n",
        "  </tr>\n",
        "  \n",
        "   <tr>\n",
        "    <td> Hoạt động tốt với dữ liệu lớn  </td>\n",
        "    <td> Rất chậm với dữ liệu lớn </td> \n",
        "  </tr>\n",
        "  \n",
        "</table>"
      ]
    },
    {
      "cell_type": "markdown",
      "metadata": {
        "id": "elcL4V2QQA0T"
      },
      "source": [
        "### Bài tập 5: Viết công thức nghiệm Normal Equation "
      ]
    },
    {
      "cell_type": "code",
      "metadata": {
        "id": "qeZIvZNJb4ue"
      },
      "source": [
        "from numpy.linalg import inv\n",
        "\n",
        "\"\"\"\n",
        "Gợi ý sử dụng `inv` để tính ma trận nghịch đảo.\n",
        "\"\"\"\n",
        "\n",
        "# Định nghĩa hàm normal equation\n",
        "def normalEqn(X, y):\n",
        "    ### START CODE HERE ### (≈ 1 line of code) \n",
        "    theta = inv(X.T.dot(X)).dot(X.T).dot(y)\n",
        "    ### END CODE HERE ###\n",
        "    \n",
        "    return theta"
      ],
      "execution_count": 23,
      "outputs": []
    },
    {
      "cell_type": "code",
      "metadata": {
        "id": "dX8vWmMob4ug"
      },
      "source": [
        "# Với Normal Equation ta cũng cần thêm vector cột 1 vào ma trận x\n",
        "X = np.ones((len(x), 3))\n",
        "X[:, 1:] = x\n",
        "\n",
        "thetaN = normalEqn(X, y)"
      ],
      "execution_count": 24,
      "outputs": []
    },
    {
      "cell_type": "code",
      "metadata": {
        "id": "AecxyKFJb4uj",
        "outputId": "9237b5b6-316d-4b70-bdbd-ffba05e6711d",
        "colab": {
          "base_uri": "https://localhost:8080/",
          "height": 67
        }
      },
      "source": [
        "thetaN = normalEqn(X, y)\n",
        "print('theta[0]: {}\\ntheta[1]: {}\\ntheta[2]: {}'.format(thetaN[0], thetaN[1], thetaN[2]))"
      ],
      "execution_count": 25,
      "outputs": [
        {
          "output_type": "stream",
          "text": [
            "theta[0]: 89597.90954279699\n",
            "theta[1]: 139.21067401762542\n",
            "theta[2]: -8738.019112327687\n"
          ],
          "name": "stdout"
        }
      ]
    },
    {
      "cell_type": "markdown",
      "metadata": {
        "id": "SvCQRbX0b4ul"
      },
      "source": [
        "**Đầu ra kỳ vọng**: \n",
        "```python\n",
        "theta[0]: 89597.90954279806\n",
        "theta[1]: 139.21067401762548\n",
        "theta[2]: -8738.019112327602\n",
        "```"
      ]
    },
    {
      "cell_type": "markdown",
      "metadata": {
        "id": "u-y5O6xpb4un"
      },
      "source": [
        "**Nhận xét:** Nghiệm bài toán khá sát với kết quả khi sử dụng thư viện __Scikit-learn__"
      ]
    },
    {
      "cell_type": "code",
      "metadata": {
        "id": "PmkY06p5b4uo",
        "outputId": "5c8ce77e-0d37-42af-8043-9d0161944720",
        "colab": {
          "base_uri": "https://localhost:8080/",
          "height": 34
        }
      },
      "source": [
        "# Dự đoán với căn nhà 1650 feet, 3 phòng ngủ \n",
        "params = np.array([1, 1650, 3]) \n",
        "\n",
        "predict = np.dot(params, thetaN)\n",
        "print ('Căn nhà diện tích 1650 feet và 3 phòng ngủ có giá: $%0.2f' % predict)"
      ],
      "execution_count": 26,
      "outputs": [
        {
          "output_type": "stream",
          "text": [
            "Căn nhà diện tích 1650 feet và 3 phòng ngủ có giá: $293081.46\n"
          ],
          "name": "stdout"
        }
      ]
    },
    {
      "cell_type": "markdown",
      "metadata": {
        "id": "gI4xmxwlb4uw"
      },
      "source": [
        "**Đầu ra kỳ vọng**: \n",
        "```python\n",
        "Căn nhà diện tích 1650 feet và 3 phòng ngủ có giá: $293081.46\n",
        "```"
      ]
    },
    {
      "cell_type": "markdown",
      "metadata": {
        "id": "i-b4-NbNb4ux"
      },
      "source": [
        "## Tổng kết\n",
        "\n",
        "Thông qua hướng dẫn này, các bạn đã nắm vững các kiến thức về:\n",
        "\n",
        "- Hồi quy tuyến tính đa biến\n",
        "- Thực hiện tính toán trên các matrix / vector\n",
        "- Đánh giá sự khác nhau giữa Gradient Descent và Normal Equation\n"
      ]
    },
    {
      "cell_type": "markdown",
      "metadata": {
        "id": "GU2rTv-Jb4uy"
      },
      "source": [
        "Tài liệu tham khảo \n",
        "\n",
        "[1] [CS229 - Machine Leanring]()"
      ]
    }
  ]
}